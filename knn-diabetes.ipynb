{
 "cells": [
  {
   "cell_type": "markdown",
   "id": "cffac78a",
   "metadata": {
    "papermill": {
     "duration": 0.005627,
     "end_time": "2024-01-21T12:23:46.930317",
     "exception": false,
     "start_time": "2024-01-21T12:23:46.924690",
     "status": "completed"
    },
    "tags": []
   },
   "source": [
    "################################################\n",
    "# KNN\n",
    "################################################\n",
    "\n",
    "1. Exploratory Data Analysis\n",
    "2. Data Preprocessing & Feature Engineering\n",
    "3. Modeling & Prediction\n",
    "4. Model Evaluation\n",
    "5. Hyperparameter Optimization\n",
    "6. Final Model\n",
    "\n",
    "-------------------------------------------------------------"
   ]
  },
  {
   "cell_type": "markdown",
   "id": "b3376388",
   "metadata": {
    "papermill": {
     "duration": 0.004712,
     "end_time": "2024-01-21T12:23:46.940324",
     "exception": false,
     "start_time": "2024-01-21T12:23:46.935612",
     "status": "completed"
    },
    "tags": []
   },
   "source": [
    "Importing classes and modules"
   ]
  },
  {
   "cell_type": "code",
   "execution_count": 1,
   "id": "7d13fef7",
   "metadata": {
    "execution": {
     "iopub.execute_input": "2024-01-21T12:23:46.953021Z",
     "iopub.status.busy": "2024-01-21T12:23:46.952194Z",
     "iopub.status.idle": "2024-01-21T12:23:48.997440Z",
     "shell.execute_reply": "2024-01-21T12:23:48.996328Z"
    },
    "papermill": {
     "duration": 2.054663,
     "end_time": "2024-01-21T12:23:49.000273",
     "exception": false,
     "start_time": "2024-01-21T12:23:46.945610",
     "status": "completed"
    },
    "tags": []
   },
   "outputs": [],
   "source": [
    "import pandas as pd\n",
    "from sklearn.metrics import classification_report, roc_auc_score\n",
    "from sklearn.model_selection import GridSearchCV, cross_validate\n",
    "from sklearn.neighbors import KNeighborsClassifier\n",
    "from sklearn.preprocessing import StandardScaler\n",
    "pd.set_option('display.max_columns', None)\n",
    "pd.set_option('display.width', 500)"
   ]
  },
  {
   "cell_type": "markdown",
   "id": "d06d3f12",
   "metadata": {
    "papermill": {
     "duration": 0.005553,
     "end_time": "2024-01-21T12:23:49.011626",
     "exception": false,
     "start_time": "2024-01-21T12:23:49.006073",
     "status": "completed"
    },
    "tags": []
   },
   "source": [
    "################################################\n",
    "# 1. Exploratory Data Analysis\n",
    "################################################"
   ]
  },
  {
   "cell_type": "code",
   "execution_count": 2,
   "id": "733a2755",
   "metadata": {
    "execution": {
     "iopub.execute_input": "2024-01-21T12:23:49.023898Z",
     "iopub.status.busy": "2024-01-21T12:23:49.023364Z",
     "iopub.status.idle": "2024-01-21T12:23:49.107372Z",
     "shell.execute_reply": "2024-01-21T12:23:49.105991Z"
    },
    "papermill": {
     "duration": 0.093003,
     "end_time": "2024-01-21T12:23:49.109818",
     "exception": false,
     "start_time": "2024-01-21T12:23:49.016815",
     "status": "completed"
    },
    "tags": []
   },
   "outputs": [
    {
     "name": "stdout",
     "output_type": "stream",
     "text": [
      "   Pregnancies  Glucose  BloodPressure  SkinThickness  Insulin   BMI  DiabetesPedigreeFunction  Age  Outcome\n",
      "0            6      148             72             35        0  33.6                     0.627   50        1\n",
      "1            1       85             66             29        0  26.6                     0.351   31        0\n",
      "2            8      183             64              0        0  23.3                     0.672   32        1\n",
      "3            1       89             66             23       94  28.1                     0.167   21        0\n",
      "4            0      137             40             35      168  43.1                     2.288   33        1\n",
      "-------\n",
      "(768, 9)\n",
      "-------\n",
      "                          count        mean         std     min       25%       50%        75%     max\n",
      "Pregnancies               768.0    3.845052    3.369578   0.000   1.00000    3.0000    6.00000   17.00\n",
      "Glucose                   768.0  120.894531   31.972618   0.000  99.00000  117.0000  140.25000  199.00\n",
      "BloodPressure             768.0   69.105469   19.355807   0.000  62.00000   72.0000   80.00000  122.00\n",
      "SkinThickness             768.0   20.536458   15.952218   0.000   0.00000   23.0000   32.00000   99.00\n",
      "Insulin                   768.0   79.799479  115.244002   0.000   0.00000   30.5000  127.25000  846.00\n",
      "BMI                       768.0   31.992578    7.884160   0.000  27.30000   32.0000   36.60000   67.10\n",
      "DiabetesPedigreeFunction  768.0    0.471876    0.331329   0.078   0.24375    0.3725    0.62625    2.42\n",
      "Age                       768.0   33.240885   11.760232  21.000  24.00000   29.0000   41.00000   81.00\n",
      "Outcome                   768.0    0.348958    0.476951   0.000   0.00000    0.0000    1.00000    1.00\n",
      "-------\n"
     ]
    },
    {
     "data": {
      "text/plain": [
       "Outcome\n",
       "0    500\n",
       "1    268\n",
       "Name: count, dtype: int64"
      ]
     },
     "execution_count": 2,
     "metadata": {},
     "output_type": "execute_result"
    }
   ],
   "source": [
    "df = pd.read_csv(\"/kaggle/input/pima-indians-diabetes-database/diabetes.csv\")\n",
    "\n",
    "print(df.head())\n",
    "print(\"-------\")\n",
    "print(df.shape)\n",
    "print(\"-------\")\n",
    "print(df.describe().T)\n",
    "print(\"-------\")\n",
    "df[\"Outcome\"].value_counts()"
   ]
  },
  {
   "cell_type": "markdown",
   "id": "03e7e784",
   "metadata": {
    "papermill": {
     "duration": 0.005141,
     "end_time": "2024-01-21T12:23:49.120526",
     "exception": false,
     "start_time": "2024-01-21T12:23:49.115385",
     "status": "completed"
    },
    "tags": []
   },
   "source": [
    "################################################\n",
    "# 2. Data Preprocessing & Feature Engineering\n",
    "################################################"
   ]
  },
  {
   "cell_type": "code",
   "execution_count": 3,
   "id": "f675c629",
   "metadata": {
    "execution": {
     "iopub.execute_input": "2024-01-21T12:23:49.133333Z",
     "iopub.status.busy": "2024-01-21T12:23:49.132692Z",
     "iopub.status.idle": "2024-01-21T12:23:49.157896Z",
     "shell.execute_reply": "2024-01-21T12:23:49.156131Z"
    },
    "papermill": {
     "duration": 0.034617,
     "end_time": "2024-01-21T12:23:49.160535",
     "exception": false,
     "start_time": "2024-01-21T12:23:49.125918",
     "status": "completed"
    },
    "tags": []
   },
   "outputs": [
    {
     "name": "stdout",
     "output_type": "stream",
     "text": [
      "     Pregnancies   Glucose  BloodPressure  SkinThickness   Insulin       BMI  DiabetesPedigreeFunction       Age\n",
      "0       0.639947  0.848324       0.149641       0.907270 -0.692891  0.204013                  0.468492  1.425995\n",
      "1      -0.844885 -1.123396      -0.160546       0.530902 -0.692891 -0.684422                 -0.365061 -0.190672\n",
      "2       1.233880  1.943724      -0.263941      -1.288212 -0.692891 -1.103255                  0.604397 -0.105584\n",
      "3      -0.844885 -0.998208      -0.160546       0.154533  0.123302 -0.494043                 -0.920763 -1.041549\n",
      "4      -1.141852  0.504055      -1.504687       0.907270  0.765836  1.409746                  5.484909 -0.020496\n",
      "..           ...       ...            ...            ...       ...       ...                       ...       ...\n",
      "763     1.827813 -0.622642       0.356432       1.722735  0.870031  0.115169                 -0.908682  2.532136\n",
      "764    -0.547919  0.034598       0.046245       0.405445 -0.692891  0.610154                 -0.398282 -0.531023\n",
      "765     0.342981  0.003301       0.149641       0.154533  0.279594 -0.735190                 -0.685193 -0.275760\n",
      "766    -0.844885  0.159787      -0.470732      -1.288212 -0.692891 -0.240205                 -0.371101  1.170732\n",
      "767    -0.844885 -0.873019       0.046245       0.656358 -0.692891 -0.202129                 -0.473785 -0.871374\n",
      "\n",
      "[768 rows x 8 columns]\n"
     ]
    }
   ],
   "source": [
    "y = df[\"Outcome\"]\n",
    "X = df.drop([\"Outcome\"], axis=1)\n",
    "\n",
    "X_scaled = StandardScaler().fit_transform(X)\n",
    "X = pd.DataFrame(X_scaled, columns=X.columns)\n",
    "print(X)"
   ]
  },
  {
   "cell_type": "markdown",
   "id": "bb416071",
   "metadata": {
    "papermill": {
     "duration": 0.005315,
     "end_time": "2024-01-21T12:23:49.171528",
     "exception": false,
     "start_time": "2024-01-21T12:23:49.166213",
     "status": "completed"
    },
    "tags": []
   },
   "source": [
    "################################################\n",
    "# 3. Modeling & Prediction\n",
    "################################################"
   ]
  },
  {
   "cell_type": "code",
   "execution_count": 4,
   "id": "527ce528",
   "metadata": {
    "execution": {
     "iopub.execute_input": "2024-01-21T12:23:49.184982Z",
     "iopub.status.busy": "2024-01-21T12:23:49.183745Z",
     "iopub.status.idle": "2024-01-21T12:23:49.203900Z",
     "shell.execute_reply": "2024-01-21T12:23:49.202527Z"
    },
    "papermill": {
     "duration": 0.02961,
     "end_time": "2024-01-21T12:23:49.206639",
     "exception": false,
     "start_time": "2024-01-21T12:23:49.177029",
     "status": "completed"
    },
    "tags": []
   },
   "outputs": [
    {
     "name": "stdout",
     "output_type": "stream",
     "text": [
      "     Pregnancies   Glucose  BloodPressure  SkinThickness   Insulin       BMI  DiabetesPedigreeFunction       Age\n",
      "195     0.342981  1.161295       0.770014       1.283638  1.130518  0.940144                 -0.232176 -0.360847\n",
      "---------------\n",
      "[1]\n"
     ]
    }
   ],
   "source": [
    "knn_model = KNeighborsClassifier().fit(X, y)\n",
    "\n",
    "random_user = X.sample(1, random_state=45)\n",
    "print(random_user)\n",
    "print(\"---------------\")\n",
    "print(knn_model.predict(random_user))"
   ]
  },
  {
   "cell_type": "markdown",
   "id": "da6737a5",
   "metadata": {
    "papermill": {
     "duration": 0.005418,
     "end_time": "2024-01-21T12:23:49.218022",
     "exception": false,
     "start_time": "2024-01-21T12:23:49.212604",
     "status": "completed"
    },
    "tags": []
   },
   "source": [
    "################################################\n",
    "# 4. Model Evaluation\n",
    "################################################"
   ]
  },
  {
   "cell_type": "code",
   "execution_count": 5,
   "id": "07aff489",
   "metadata": {
    "execution": {
     "iopub.execute_input": "2024-01-21T12:23:49.231276Z",
     "iopub.status.busy": "2024-01-21T12:23:49.230857Z",
     "iopub.status.idle": "2024-01-21T12:23:49.485160Z",
     "shell.execute_reply": "2024-01-21T12:23:49.484011Z"
    },
    "papermill": {
     "duration": 0.263873,
     "end_time": "2024-01-21T12:23:49.487653",
     "exception": false,
     "start_time": "2024-01-21T12:23:49.223780",
     "status": "completed"
    },
    "tags": []
   },
   "outputs": [
    {
     "name": "stdout",
     "output_type": "stream",
     "text": [
      "              precision    recall  f1-score   support\n",
      "\n",
      "           0       0.85      0.90      0.87       500\n",
      "           1       0.79      0.70      0.74       268\n",
      "\n",
      "    accuracy                           0.83       768\n",
      "   macro avg       0.82      0.80      0.81       768\n",
      "weighted avg       0.83      0.83      0.83       768\n",
      "\n",
      "AUC:0.9017686567164179\n",
      "---------------------\n",
      "KROSS VALIDATION\n",
      "Test Accuracy: 0.733112638994992\n",
      "Test f1: 0.5905780011534191\n",
      "Test ROC AUC: 0.7805279524807827\n",
      "---------------------\n"
     ]
    },
    {
     "data": {
      "text/plain": [
       "{'algorithm': 'auto',\n",
       " 'leaf_size': 30,\n",
       " 'metric': 'minkowski',\n",
       " 'metric_params': None,\n",
       " 'n_jobs': None,\n",
       " 'n_neighbors': 5,\n",
       " 'p': 2,\n",
       " 'weights': 'uniform'}"
      ]
     },
     "execution_count": 5,
     "metadata": {},
     "output_type": "execute_result"
    }
   ],
   "source": [
    "# Confusion matrix için y_pred:\n",
    "y_pred = knn_model.predict(X)\n",
    "\n",
    "# AUC için y_prob:\n",
    "y_prob = knn_model.predict_proba(X)[:, 1]\n",
    "print(classification_report(y, y_pred))\n",
    "# acc 0.83\n",
    "# f1 0.74\n",
    "\n",
    "# AUC\n",
    "print(\"AUC:\" + str(roc_auc_score(y, y_prob)))\n",
    "# 0.90\n",
    "\n",
    "print(\"---------------------\")\n",
    "print(\"KROSS VALIDATION\")\n",
    "\n",
    "cv_results = cross_validate(knn_model, X, y, cv=5, scoring=[\"accuracy\", \"f1\", \"roc_auc\"])\n",
    "\n",
    "print(\"Test Accuracy: \" +str(cv_results['test_accuracy'].mean()))\n",
    "print(\"Test f1: \"+ str(cv_results['test_f1'].mean()))\n",
    "print(\"Test ROC AUC: \" + str(cv_results['test_roc_auc'].mean()))\n",
    "# 0.73\n",
    "# 0.59\n",
    "# 0.78\n",
    "print(\"---------------------\")\n",
    "\n",
    "knn_model.get_params()"
   ]
  },
  {
   "cell_type": "markdown",
   "id": "ca921fd8",
   "metadata": {
    "papermill": {
     "duration": 0.005724,
     "end_time": "2024-01-21T12:23:49.499488",
     "exception": false,
     "start_time": "2024-01-21T12:23:49.493764",
     "status": "completed"
    },
    "tags": []
   },
   "source": [
    "################################################\n",
    "# 5. Hyperparameter Optimization\n",
    "################################################"
   ]
  },
  {
   "cell_type": "code",
   "execution_count": 6,
   "id": "ad297369",
   "metadata": {
    "execution": {
     "iopub.execute_input": "2024-01-21T12:23:49.513592Z",
     "iopub.status.busy": "2024-01-21T12:23:49.513211Z",
     "iopub.status.idle": "2024-01-21T12:23:54.164869Z",
     "shell.execute_reply": "2024-01-21T12:23:54.163058Z"
    },
    "papermill": {
     "duration": 4.661783,
     "end_time": "2024-01-21T12:23:54.167462",
     "exception": false,
     "start_time": "2024-01-21T12:23:49.505679",
     "status": "completed"
    },
    "tags": []
   },
   "outputs": [
    {
     "name": "stdout",
     "output_type": "stream",
     "text": [
      "Fitting 5 folds for each of 48 candidates, totalling 240 fits\n",
      "-------------------\n",
      "{'n_neighbors': 17}\n"
     ]
    }
   ],
   "source": [
    "knn_model = KNeighborsClassifier()\n",
    "knn_model.get_params()\n",
    "\n",
    "knn_params = {\"n_neighbors\": range(2, 50)}\n",
    "\n",
    "knn_gs_best = GridSearchCV(knn_model,\n",
    "                           knn_params,\n",
    "                           cv=5,\n",
    "                           n_jobs=-1,\n",
    "                           verbose=1).fit(X, y)\n",
    "print(\"-------------------\")\n",
    "\n",
    "print(knn_gs_best.best_params_)"
   ]
  },
  {
   "cell_type": "markdown",
   "id": "d72341ca",
   "metadata": {
    "papermill": {
     "duration": 0.006054,
     "end_time": "2024-01-21T12:23:54.180035",
     "exception": false,
     "start_time": "2024-01-21T12:23:54.173981",
     "status": "completed"
    },
    "tags": []
   },
   "source": [
    "################################################\n",
    "# 6. Final Model\n",
    "################################################"
   ]
  },
  {
   "cell_type": "code",
   "execution_count": 7,
   "id": "474e792a",
   "metadata": {
    "execution": {
     "iopub.execute_input": "2024-01-21T12:23:54.195209Z",
     "iopub.status.busy": "2024-01-21T12:23:54.194310Z",
     "iopub.status.idle": "2024-01-21T12:23:54.362069Z",
     "shell.execute_reply": "2024-01-21T12:23:54.360729Z"
    },
    "papermill": {
     "duration": 0.178495,
     "end_time": "2024-01-21T12:23:54.364887",
     "exception": false,
     "start_time": "2024-01-21T12:23:54.186392",
     "status": "completed"
    },
    "tags": []
   },
   "outputs": [
    {
     "data": {
      "text/plain": [
       "array([0])"
      ]
     },
     "execution_count": 7,
     "metadata": {},
     "output_type": "execute_result"
    }
   ],
   "source": [
    "knn_final = knn_model.set_params(**knn_gs_best.best_params_).fit(X, y)\n",
    "\n",
    "cv_results = cross_validate(knn_final,\n",
    "                            X,\n",
    "                            y,\n",
    "                            cv=5,\n",
    "                            scoring=[\"accuracy\", \"f1\", \"roc_auc\"])\n",
    "\n",
    "cv_results['test_accuracy'].mean()\n",
    "cv_results['test_f1'].mean()\n",
    "cv_results['test_roc_auc'].mean()\n",
    "\n",
    "random_user = X.sample(1)\n",
    "\n",
    "knn_final.predict(random_user)"
   ]
  }
 ],
 "metadata": {
  "kaggle": {
   "accelerator": "none",
   "dataSources": [
    {
     "datasetId": 228,
     "sourceId": 482,
     "sourceType": "datasetVersion"
    }
   ],
   "dockerImageVersionId": 30635,
   "isGpuEnabled": false,
   "isInternetEnabled": true,
   "language": "python",
   "sourceType": "notebook"
  },
  "kernelspec": {
   "display_name": "Python 3",
   "language": "python",
   "name": "python3"
  },
  "language_info": {
   "codemirror_mode": {
    "name": "ipython",
    "version": 3
   },
   "file_extension": ".py",
   "mimetype": "text/x-python",
   "name": "python",
   "nbconvert_exporter": "python",
   "pygments_lexer": "ipython3",
   "version": "3.10.12"
  },
  "papermill": {
   "default_parameters": {},
   "duration": 13.604491,
   "end_time": "2024-01-21T12:23:56.993070",
   "environment_variables": {},
   "exception": null,
   "input_path": "__notebook__.ipynb",
   "output_path": "__notebook__.ipynb",
   "parameters": {},
   "start_time": "2024-01-21T12:23:43.388579",
   "version": "2.4.0"
  }
 },
 "nbformat": 4,
 "nbformat_minor": 5
}
